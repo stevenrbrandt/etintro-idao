{
 "cells": [
  {
   "cell_type": "markdown",
   "metadata": {},
   "source": [
    "<h2>Introduction</h2>\n",
    "\n",
    "Here you will find a step by step guide to downloading, configuring, and running the Einstein Toolkit. You may use this tutorial on a workstation or laptop, or on a supported cluster. Configuring the Einstein Toolkit on an unsupported cluster is beyond the scope of this tutorial. If you find something that does not work, please feel free to edit the wiki or mail users@einsteintoolkit.org."
   ]
  },
  {
   "cell_type": "markdown",
   "metadata": {},
   "source": [
    "<h2>Prerequisites</h2>\n",
    "When using the Einstein Toolkit on a laptop or workstation you will need a number of packages installed in order to download, compile and use the Einstein Toolkit components.\n",
    "\n",
    "Before you build, type \"which mpirun\". If nothing is found, please load a version of mpi into your path before continuing. The Einstein Toolkit can build many of the dependencies it needs for itself. However, this can take time, and make a long build process even longer. If you have administrative priviliges on your machine, you would do well to install the following packages. Note that on Centos, you will have to do \"yum install -y epel-release\" for some of the important packages below to install.\n",
    "\n",
    "<table>\n",
    "<tr><th>Package</th><th>Debian /Ubuntu</th><th>fedora</th><th>centos</th><th>opensuse</th></tr>\n",
    "<tr><td>jpeg</td><td>apt-get install -y libjpeg-turbo?-dev</td><td>dnf install -y libjpeg-turbo-devel</td><td>yum install -y libjpeg-turbo-devel</td><td>&nbsp;</td></tr>\n",
    "<tr><td>curl</td><td>apt-get install -y curl</td><td>dnf install -y curl</td><td>yum install -y curl</td><td>zypper install -y curl</td></tr>\n",
    "<tr><td>gcc</td><td>apt-get install -y gcc</td><td>dnf install -y gcc</td><td>yum install -y gcc</td><td>zypper install -y gcc</td></tr>\n",
    "<tr><td>git</td><td>apt-get install -y git</td><td>dnf install -y git</td><td>yum install -y git</td><td>zypper install -y git</td></tr>\n",
    "<tr><td>lapack</td><td>apt-get install -y liblapack-dev</td><td>dnf install -y lapack-devel</td><td>yum install -y lapack-devel</td><td>zypper install -y lapack-devel</td></tr>\n",
    "<tr><td>make</td><td>apt-get install -y make</td><td>dnf install -y make</td><td>yum install -y make</td><td>zypper install -y make</td></tr>\n",
    "<tr><td>subversion</td><td>apt-get install -y subversion</td><td>dnf install -y subversion</td><td>yum install -y subversion</td><td>zypper install -y subversion</td></tr>\n",
    "<tr><td>g++</td><td>apt-get install -y g++</td><td>dnf install -y gcc-c++</td><td>yum install -y gcc-c++</td><td>zypper install -y gcc-c++</td></tr>\n",
    "<tr><td>which</td><td>&nbsp;</td><td>dnf install -y which</td><td>yum install -y which</td><td>zypper install -y which</td></tr>\n",
    "<tr><td>papi</td><td>apt-get install -y libpapi-dev</td><td>dnf install -y papi-devel</td><td>yum install -y papi-devel</td><td>zypper install -y papi-devel</td></tr>\n",
    "<tr><td>python</td><td>apt-get install -y python</td><td>dnf install -y python</td><td>yum install -y python</td><td>zypper install -y python</td></tr>\n",
    "<tr><td>hwloc</td><td>apt-get install -y libhwloc-dev</td><td>dnf install -y hwloc-devel</td><td>yum install -y hwloc-devel</td><td>zypper install -y hwloc-devel</td></tr>\n",
    "<tr><td>mpi</td><td>libopenmpi-dev libhdf5-openmpi-dev</td><td>openmpi-devel hdf5-openmpi-devel</td><td>openmpi-devel hdf5-openmpi-devel</td><td>zypper install -y openmpi-devel</td></tr>\n",
    "<tr><td>ssl</td><td>apt-get install -y libssl-dev</td><td>dnf install -y openssl-devel</td><td>yum install -y openssl-devel</td><td>zypper install -y libopenssl-devel</td></tr>\n",
    "<tr><td>libtool</td><td>&nbsp;</td><td>dnf install -y libtool-ltdl-devel</td><td>yum install -y libtool-ltdl-devel</td><td>&nbsp;</td></tr>\n",
    "<tr><td>numa</td><td>apt-get install -y numactl</td><td>dnf install -y numactl-devel</td><td>yum install -y numactl-devel</td><td>zypper install -y libnuma-devel</td></tr>\n",
    "<tr><td>gfortran</td><td>apt-get install -y gfortran</td><td>dnf install -y gcc-gfortran</td><td>yum install -y gcc-gfortran</td><td>zypper install -y gcc-fortran</td></tr>\n",
    "<tr><td>xargs</td><td>&nbsp;</td><td>dnf install -y findutils</td><td>yum install -y findutils</td><td>&nbsp;</td></tr>\n",
    "<tr><td>hdf5</td><td>apt-get install -y libhdf5-dev</td><td>dnf install -y hdf5-devel</td><td>yum install -y hdf5-devel</td><td>zypper install -y hdf5-devel</td></tr>\n",
    "<tr><td>fftw</td><td>apt-get install -y libfftw3-dev</td><td>dnf install -y fftw-devel</td><td>yum install -y fftw-devel</td><td>zypper install -y libfftw3-3</td></tr>\n",
    "<tr><td>patch</td><td>apt-get install -y patch</td><td>dnf install -y patch</td><td>yum install -y patch</td><td>zypper install -y patch</td></tr>\n",
    "<tr><td>gsl</td><td>apt-get install -y libgsl-dev</td><td>dnf install -y gsl-devel</td><td>yum install -y gsl-devel</td><td>zypper install -y gsl-devel</td></tr>\n",
    "<tr><td>pkg-config</td><td>apt-get install -y pkg-config</td><td>dnf install -y pkgconfig</td><td>yum install -y pkgconfig</td><td>zypper install -y pkg-config</td></tr>\n"
   ]
  },
  {
   "cell_type": "markdown",
   "metadata": {},
   "source": [
    "<h2>Download</h2>\n",
    "\n",
    "A script called GetComponents is used to fetch the components of the Einstein Toolkit. GetComponents serves as convenient wrapper around lower level tools like git and svn to download the codes that make up the Einstein toolkit from their individual repositories. You may download and make it executable as follows:"
   ]
  },
  {
   "cell_type": "code",
   "execution_count": null,
   "metadata": {},
   "outputs": [],
   "source": [
    "!curl -kLO https://raw.githubusercontent.com/gridaphobe/CRL/ET_2017_06/GetComponents\n",
    "!chmod a+x GetComponents"
   ]
  },
  {
   "cell_type": "markdown",
   "metadata": {},
   "source": [
    "GetComponents accepts a thorn list as an argument. To check out the needed components:"
   ]
  },
  {
   "cell_type": "code",
   "execution_count": null,
   "metadata": {},
   "outputs": [],
   "source": [
    "!./GetComponents --parallel https://bitbucket.org/einsteintoolkit/manifest/raw/ET_2017_06/einsteintoolkit.th"
   ]
  },
  {
   "cell_type": "code",
   "execution_count": null,
   "metadata": {},
   "outputs": [],
   "source": [
    "%cd ~/Cactus"
   ]
  },
  {
   "cell_type": "markdown",
   "metadata": {},
   "source": [
    "<h2>Configure and build</h2>\n",
    "\n",
    "The recommended way to compile the Einstein Toolkit is to use the Simulation Factory (\"SimFactory\").\n",
    "<h3>Configuring SimFactory for your machine</h3>\n",
    "\n",
    "The ET depends on various libraries, and needs to interact with machine-specific queueing systems and MPI implementations. As such, it needs to be configured for a given machine. For this, it uses SimFactory. Generally, configuring SimFactory means providing an optionlist, for specifying library locations and build options, a submit script for using the batch queueing system, and a runscript, for specifying how Cactus should be run, e.g. which mpirun command to use."
   ]
  },
  {
   "cell_type": "code",
   "execution_count": null,
   "metadata": {},
   "outputs": [],
   "source": [
    "!./simfactory/bin/sim setup-silent"
   ]
  },
  {
   "cell_type": "markdown",
   "metadata": {},
   "source": [
    "After this step is complete you will find your machine's default setup under ./simfactory/mdb/machines/&lt;hostname &gt;.ini\n",
    "You can edit some of these settings freely, such as \"description\", \"basedir\" etc. Some entry edits could result in simulation start-up warnings and/or errors such as \"ppn\" (processor-per-node meaning number of cores on your machine), \"num-threads\" (number of threads per core) so such edits must be done with some care."
   ]
  },
  {
   "cell_type": "markdown",
   "metadata": {},
   "source": [
    "<h2>Building the Einstein Toolkit</h2>\n",
    "\n",
    "Assuming that SimFactory has been successfully set up on your machine, you should be able to build the Einstein Toolkit with the command below. Adjust -j2 to match the number of cores your machine possesses if you want to use more or less than 2 parallel build processes. This may take a while, as it compiles all the thorns specified in manifest/einsteintoolkit.th."
   ]
  },
  {
   "cell_type": "code",
   "execution_count": null,
   "metadata": {},
   "outputs": [],
   "source": [
    "!./simfactory/bin/sim build --thornlist ../einsteintoolkit.th"
   ]
  },
  {
   "cell_type": "markdown",
   "metadata": {},
   "source": [
    "<h2>Running</h2>\n",
    "\n",
    "You can now run the Einstein Toolkit with a simple test parameter file."
   ]
  },
  {
   "cell_type": "code",
   "execution_count": null,
   "metadata": {},
   "outputs": [],
   "source": [
    "!./simfactory/bin/sim create-submit helloworld \\\n",
    "    --parfile arrangements/CactusExamples/HelloWorld/par/HelloWorld.par --walltime 0:5:0"
   ]
  },
  {
   "cell_type": "markdown",
   "metadata": {},
   "source": [
    "The above command will submit the simulation to the queue naming it \"helloworld\" and ask for a 5 minutes long job time, if you are running on a cluster, or run it immediately in the background if you are on a personal laptop or workstation. You can check the status of the simulation with the command below. You can run this command repeatedly until the job shows <pre>[ACTIVE (FINISHED)...</pre> as it's state. Prior to that, it may show up as QUEUED or RUNNING."
   ]
  },
  {
   "cell_type": "code",
   "execution_count": null,
   "metadata": {},
   "outputs": [],
   "source": [
    "!simfactory/bin/sim list-simulations helloworld"
   ]
  },
  {
   "cell_type": "markdown",
   "metadata": {},
   "source": [
    "Once it finished you can look at the output with the command below."
   ]
  },
  {
   "cell_type": "code",
   "execution_count": null,
   "metadata": {},
   "outputs": [],
   "source": [
    "!simfactory/bin/sim show-output helloworld"
   ]
  },
  {
   "cell_type": "markdown",
   "metadata": {},
   "source": [
    "If you see <pre>INFO (HelloWorld): Hello World!</pre> anywhere in the above output, then congratulations, you have successfully downloaded, compiled and run the Einstein Toolkit! You may now want to try some of the other tutorials to explore some interesting physics examples."
   ]
  },
  {
   "cell_type": "code",
   "execution_count": null,
   "metadata": {},
   "outputs": [],
   "source": []
  }
 ],
 "metadata": {
  "kernelspec": {
   "display_name": "Python 3",
   "language": "python",
   "name": "python3"
  },
  "language_info": {
   "codemirror_mode": {
    "name": "ipython",
    "version": 3
   },
   "file_extension": ".py",
   "mimetype": "text/x-python",
   "name": "python",
   "nbconvert_exporter": "python",
   "pygments_lexer": "ipython3",
   "version": "3.4.5"
  }
 },
 "nbformat": 4,
 "nbformat_minor": 2
}
